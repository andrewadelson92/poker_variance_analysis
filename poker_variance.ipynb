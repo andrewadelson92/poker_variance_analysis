{
 "cells": [
  {
   "cell_type": "code",
   "execution_count": 56,
   "metadata": {
    "collapsed": true
   },
   "outputs": [],
   "source": [
    "import numpy as np\n",
    "import matplotlib.pyplot as plt\n",
    "import seaborn as sns\n",
    "%matplotlib inline"
   ]
  },
  {
   "cell_type": "code",
   "execution_count": 874,
   "metadata": {
    "collapsed": false
   },
   "outputs": [],
   "source": [
    "##this creates the payouts for each place. Generated from WSOP.com\n",
    "##tourney details: $500+65, 2000 runners, 300 get paid\n",
    "def create_pays():\n",
    "    payouts = []\n",
    "    for i in range(5007):\n",
    "        payouts.append(0)\n",
    "    for i in range(180):\n",
    "        payouts.append(377.31)\n",
    "    for i in range(162):\n",
    "        payouts.append(417.25)\n",
    "    for i in range(144):\n",
    "        payouts.append(461.39)\n",
    "    for i in range(126):\n",
    "        payouts.append(510.22)\n",
    "    for i in range(108):\n",
    "        payouts.append(564.23)\n",
    "    for i in range(90):\n",
    "        payouts.append(623.89)\n",
    "    for i in range(45):\n",
    "        payouts.append(689.92)\n",
    "    for i in range(45):\n",
    "        payouts.append(762.93)\n",
    "    for i in range(36):\n",
    "        payouts.append(1042.34)\n",
    "    for i in range(27):\n",
    "        payouts.append(1506.14)\n",
    "    for i in range(18):\n",
    "        payouts.append(2176.34)\n",
    "    for i in range(9):\n",
    "        payouts.append(3144.48)\n",
    "    for i in range(4):\n",
    "        payouts.append(4543.57)\n",
    "    for i in range(4):\n",
    "        payouts.append(6565)\n",
    "    payouts.append(9485.88)\n",
    "    payouts.append(13706.26)\n",
    "    payouts.append(19804.58)\n",
    "    payouts.append(28615.93)\n",
    "    payouts.append(41347.69)\n",
    "    payouts.append(59744.03)\n",
    "    payouts.append(86325.43)\n",
    "    payouts.append(124733.36)\n",
    "    payouts.append(180234.73)\n",
    "    arr = np.array(payouts)\n",
    "    return arr\n",
    "\n"
   ]
  },
  {
   "cell_type": "code",
   "execution_count": 875,
   "metadata": {
    "collapsed": false
   },
   "outputs": [
    {
     "name": "stdout",
     "output_type": "stream",
     "text": [
      "1202800.0\n"
     ]
    },
    {
     "data": {
      "text/plain": [
       "6014"
      ]
     },
     "execution_count": 875,
     "metadata": {},
     "output_type": "execute_result"
    }
   ],
   "source": [
    "##verify sum and length of payouts array. summing up every result, we get the prize pool of \n",
    "#$1202800 and we see that the 6014 starting runners is correct\n",
    "print sum(create_pays())\n",
    "len(create_pays())"
   ]
  },
  {
   "cell_type": "code",
   "execution_count": 877,
   "metadata": {
    "collapsed": false
   },
   "outputs": [
    {
     "data": {
      "text/plain": [
       "279.5"
      ]
     },
     "execution_count": 877,
     "metadata": {},
     "output_type": "execute_result"
    }
   ],
   "source": [
    "#the average return for a 30% ROI player\n",
    "215*1.3"
   ]
  },
  {
   "cell_type": "code",
   "execution_count": 879,
   "metadata": {
    "collapsed": false
   },
   "outputs": [
    {
     "data": {
      "text/plain": [
       "0.3975"
      ]
     },
     "execution_count": 879,
     "metadata": {},
     "output_type": "execute_result"
    }
   ],
   "source": [
    "#This is really equivalent to 40% return from what is committed to the prize pool \n",
    "(279.5-200)/200"
   ]
  },
  {
   "cell_type": "markdown",
   "metadata": {},
   "source": [
    "<h3>Payout Distribution</h3>\n",
    "Looking at the graph below, it is very clear why tournament poker is a high variance game. We see that first place gets roughly 15% of the total prize pool. That's 838x your money if you win! The payout structure is extremely top heavy."
   ]
  },
  {
   "cell_type": "code",
   "execution_count": 880,
   "metadata": {
    "collapsed": false,
    "scrolled": true
   },
   "outputs": [
    {
     "data": {
      "text/plain": [
       "[<matplotlib.lines.Line2D at 0x11ade2b10>]"
      ]
     },
     "execution_count": 880,
     "metadata": {},
     "output_type": "execute_result"
    },
    {
     "data": {
      "image/png": "[encoded data removed]",
      "text/plain": [
       "<matplotlib.figure.Figure at 0x11a704ed0>"
      ]
     },
     "metadata": {},
     "output_type": "display_data"
    }
   ],
   "source": [
    "##looking at the initial distribution of payouts. \n",
    "arr = create_pays()\n",
    "plt.plot(arr/1202800.0) #divide by total prize pool for % of purse"
   ]
  },
  {
   "cell_type": "markdown",
   "metadata": {},
   "source": [
    "<h3>Creating p values for Distribution of results</h3>\n",
    "We need to create a probability distribution for what place a 30% ROI player will finish in. For 30%, the average return is 695. This is really a return of 1.39x when we factor in the rake (since the amount contributed to prize pool is $500). We need to have different hypotheses for what the probability distribution looks like. We know one thing to be true: the trend for this distribution must be increasing as more people are eliminated for a profitable player. So, let's try out different probability distributions"
   ]
  },
  {
   "cell_type": "markdown",
   "metadata": {},
   "source": [
    "<h3>General Form of the Equation</h3>\n",
    "$1/6014 * \\sum_{x=1}^{6014} f(x)p(x) = 279.5$\n",
    "<br></br><br></br>\n",
    "where p(x) is the probability of finishing in xth place and f(x) is the payout amount for that position"
   ]
  },
  {
   "cell_type": "markdown",
   "metadata": {
    "collapsed": false
   },
   "source": [
    "<h3>Case 1-- Linear:</h3> $p(x) = mx+ b$<br></br> \n",
    "Let's assume that the probability for each place increases linearly as the number of players eliminated increases. We need to find the set of (m,b)'s where the general form of the equation is satisfied, and find the pair that makes the most sense."
   ]
  },
  {
   "cell_type": "code",
   "execution_count": 1053,
   "metadata": {
    "collapsed": true
   },
   "outputs": [],
   "source": [
    "def probs_linear(m,b):\n",
    "    probs = []\n",
    "    for x in range(6014):\n",
    "        probs.append(m*x+b)\n",
    "    probs = np.array(probs)\n",
    "    return 1.0*probs/sum(probs)\n",
    "    "
   ]
  },
  {
   "cell_type": "code",
   "execution_count": 903,
   "metadata": {
    "collapsed": false
   },
   "outputs": [
    {
     "data": {
      "text/plain": [
       "<matplotlib.text.Text at 0x11afe0a10>"
      ]
     },
     "execution_count": 903,
     "metadata": {},
     "output_type": "execute_result"
    },
    {
     "data": {
      "image/png": "[encoded data removed]",
      "text/plain": [
       "<matplotlib.figure.Figure at 0x11afc0550>"
      ]
     },
     "metadata": {},
     "output_type": "display_data"
    }
   ],
   "source": [
    "#n is the number of eliminations\n",
    "plt.plot(probs_linear(.02,81.32))\n",
    "plt.xlabel('number of eliminations')\n",
    "plt.ylabel('probability')"
   ]
  },
  {
   "cell_type": "code",
   "execution_count": 643,
   "metadata": {
    "collapsed": false
   },
   "outputs": [],
   "source": [
    "def calc_ev_linear(m,b):\n",
    "    probs = probs_linear(m,b)\n",
    "    payouts = create_pays()\n",
    "    return np.dot(probs,payouts)\n",
    "        "
   ]
  },
  {
   "cell_type": "code",
   "execution_count": 1007,
   "metadata": {
    "collapsed": false
   },
   "outputs": [
    {
     "name": "stdout",
     "output_type": "stream",
     "text": [
      "850680.3\n"
     ]
    },
    {
     "data": {
      "text/plain": [
       "279.5002413186246"
      ]
     },
     "execution_count": 1007,
     "metadata": {},
     "output_type": "execute_result"
    }
   ],
   "source": [
    "calc_ev_linear(.02,81.32)"
   ]
  },
  {
   "cell_type": "markdown",
   "metadata": {},
   "source": [
    "It assumes that the probability of first is 2.48x more likely than getting last, and increasing linear as eliminations increase."
   ]
  },
  {
   "cell_type": "markdown",
   "metadata": {},
   "source": [
    "<h3>Monte Carlo Simulations</h3>\n",
    "Let's build distributions for different sample sizes and see what they look like. To do this, we can randomly draw from the probability density function, and by law of large numbers, \n",
    "we know that these simulated distributions must be approximately equal to the true distributions"
   ]
  },
  {
   "cell_type": "code",
   "execution_count": 914,
   "metadata": {
    "collapsed": true
   },
   "outputs": [],
   "source": [
    "#first we have to build the cumulative probability density function\n",
    "def cum_density_lin():\n",
    "    probs = np.array(probs_linear(.02,81.32))\n",
    "    cum_probs = []\n",
    "    for i in range(1,6015):\n",
    "        cum_probs.append(sum(probs[:i]))\n",
    "    return cum_probs"
   ]
  },
  {
   "cell_type": "code",
   "execution_count": 919,
   "metadata": {
    "collapsed": false
   },
   "outputs": [
    {
     "data": {
      "text/plain": [
       "<matplotlib.text.Text at 0x11b764090>"
      ]
     },
     "execution_count": 919,
     "metadata": {},
     "output_type": "execute_result"
    },
    {
     "data": {
      "image/png": "[encoded data removed]",
      "text/plain": [
       "<matplotlib.figure.Figure at 0x11b4b9b90>"
      ]
     },
     "metadata": {},
     "output_type": "display_data"
    }
   ],
   "source": [
    "#plot the cumulative density function\n",
    "plt.plot(cum_density_lin())\n",
    "plt.title('cumulative density function')\n",
    "plt.xlabel('number of eliminations')\n",
    "plt.ylabel('probability of being eliminated')"
   ]
  },
  {
   "cell_type": "code",
   "execution_count": 1085,
   "metadata": {
    "collapsed": false
   },
   "outputs": [],
   "source": [
    "import math\n",
    "cum_lin =cum_density_lin()\n",
    "payouts = create_pays()\n",
    "def simulation_linear():\n",
    "    #if not in the money\n",
    "    num = np.random.rand()\n",
    "    b = 81.32/850680.3\n",
    "    a = .01/850680.3\n",
    "    c = -1.0*num\n",
    "    quad = (-b + math.sqrt(b**2 - 4*a*c))/(2*a)\n",
    "    n1 = int(math.floor(quad))\n",
    "    if n1>0:\n",
    "        n1-=1\n",
    "    while cum_lin[n1]<num:\n",
    "        n1+=1\n",
    "    return payouts[n1]\n",
    "\n",
    "    \n",
    "    "
   ]
  },
  {
   "cell_type": "code",
   "execution_count": 1086,
   "metadata": {
    "collapsed": false,
    "scrolled": true
   },
   "outputs": [],
   "source": [
    "def monte_linear(n):\n",
    "    results = 0\n",
    "    for i in range(n):\n",
    "        results+=simulation_linear()\n",
    "    return results - n*215"
   ]
  },
  {
   "cell_type": "code",
   "execution_count": 1150,
   "metadata": {
    "collapsed": false
   },
   "outputs": [],
   "source": [
    "results = []\n",
    "for i in range(10000):\n",
    "    results.append(monte_linear(400))\n",
    "results =np.array(results)"
   ]
  },
  {
   "cell_type": "code",
   "execution_count": 1151,
   "metadata": {
    "collapsed": false
   },
   "outputs": [
    {
     "data": {
      "text/plain": [
       "array([-50525.78, -49211.88, -49186.36, -48837.57, -48235.43])"
      ]
     },
     "execution_count": 1151,
     "metadata": {},
     "output_type": "execute_result"
    }
   ],
   "source": [
    "results =np.sort(results)\n",
    "##the five worst results\n",
    "results[0:5]"
   ]
  },
  {
   "cell_type": "code",
   "execution_count": 1152,
   "metadata": {
    "collapsed": false
   },
   "outputs": [
    {
     "data": {
      "text/plain": [
       "array([ 498515.7 ,  507982.72,  523666.  ,  543177.52,  694702.25])"
      ]
     },
     "execution_count": 1152,
     "metadata": {},
     "output_type": "execute_result"
    }
   ],
   "source": [
    "##the five best results\n",
    "results[-5:]"
   ]
  },
  {
   "cell_type": "code",
   "execution_count": 1164,
   "metadata": {
    "collapsed": false
   },
   "outputs": [
    {
     "data": {
      "text/plain": [
       "<matplotlib.text.Text at 0x11cb6b350>"
      ]
     },
     "execution_count": 1164,
     "metadata": {},
     "output_type": "execute_result"
    },
    {
     "data": {
      "image/png": "[encoded data removed]",
      "text/plain": [
       "<matplotlib.figure.Figure at 0x11cb02590>"
      ]
     },
     "metadata": {},
     "output_type": "display_data"
    }
   ],
   "source": [
    "p = np.linspace(0,100,10000)\n",
    "plt.plot(p,results)\n",
    "plt.xlabel('Percentile')\n",
    "plt.ylabel('Net Profit')\n",
    "plt.title('400 Tournaments: Linear Assumption')"
   ]
  },
  {
   "cell_type": "markdown",
   "metadata": {},
   "source": [
    "What is the probability of loss?"
   ]
  },
  {
   "cell_type": "code",
   "execution_count": 1154,
   "metadata": {
    "collapsed": false
   },
   "outputs": [
    {
     "name": "stdout",
     "output_type": "stream",
     "text": [
      "probability of losing is 0.5675\n"
     ]
    }
   ],
   "source": [
    "print 'probability of losing is ' + str(len([i for i in results if i<0])/len(results))"
   ]
  },
  {
   "cell_type": "code",
   "execution_count": 1157,
   "metadata": {
    "collapsed": false
   },
   "outputs": [
    {
     "data": {
      "text/plain": [
       "77136.819508765053"
      ]
     },
     "execution_count": 1157,
     "metadata": {},
     "output_type": "execute_result"
    }
   ],
   "source": [
    "results.std()"
   ]
  },
  {
   "cell_type": "code",
   "execution_count": 1159,
   "metadata": {
    "collapsed": false
   },
   "outputs": [
    {
     "data": {
      "text/plain": [
       "25722.703838000016"
      ]
     },
     "execution_count": 1159,
     "metadata": {},
     "output_type": "execute_result"
    }
   ],
   "source": [
    "results.mean()"
   ]
  },
  {
   "cell_type": "code",
   "execution_count": 1162,
   "metadata": {
    "collapsed": false
   },
   "outputs": [
    {
     "name": "stdout",
     "output_type": "stream",
     "text": [
      "397240.53\n",
      "-46876.27\n"
     ]
    }
   ],
   "source": [
    "print results[9985]\n",
    "print results[15]"
   ]
  },
  {
   "cell_type": "code",
   "execution_count": 1163,
   "metadata": {
    "collapsed": false
   },
   "outputs": [
    {
     "data": {
      "text/plain": [
       "-10293.140000000072"
      ]
     },
     "execution_count": 1163,
     "metadata": {},
     "output_type": "execute_result"
    }
   ],
   "source": [
    "results[5000]"
   ]
  },
  {
   "cell_type": "code",
   "execution_count": 1165,
   "metadata": {
    "collapsed": false
   },
   "outputs": [
    {
     "data": {
      "text/plain": [
       "694702.25000000012"
      ]
     },
     "execution_count": 1165,
     "metadata": {},
     "output_type": "execute_result"
    }
   ],
   "source": [
    "results[-1]"
   ]
  },
  {
   "cell_type": "code",
   "execution_count": null,
   "metadata": {
    "collapsed": true
   },
   "outputs": [],
   "source": []
  }
 ],
 "metadata": {
  "kernelspec": {
   "display_name": "Python 2",
   "language": "python",
   "name": "python2"
  },
  "language_info": {
   "codemirror_mode": {
    "name": "ipython",
    "version": 2
   },
   "file_extension": ".py",
   "mimetype": "text/x-python",
   "name": "python",
   "nbconvert_exporter": "python",
   "pygments_lexer": "ipython2",
   "version": "2.7.13"
  }
 },
 "nbformat": 4,
 "nbformat_minor": 2
}
